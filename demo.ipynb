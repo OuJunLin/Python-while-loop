{
 "cells": [
  {
   "cell_type": "markdown",
   "metadata": {},
   "source": [
    "## 1. while loop"
   ]
  },
  {
   "cell_type": "code",
   "execution_count": 1,
   "metadata": {},
   "outputs": [
    {
     "name": "stdout",
     "output_type": "stream",
     "text": [
      "1\n",
      "2\n",
      "3\n",
      "4\n",
      "5\n"
     ]
    }
   ],
   "source": [
    "i = 0\n",
    "while i < 5:\n",
    "    i+=1\n",
    "    print(i)"
   ]
  },
  {
   "cell_type": "markdown",
   "metadata": {},
   "source": [
    "## 範例1 :\n",
    "\n",
    "## 使用者一直輸入正整數，直到輸入 -1 時停止累積，再將累計的結果輸出"
   ]
  },
  {
   "cell_type": "code",
   "execution_count": 2,
   "metadata": {},
   "outputs": [
    {
     "name": "stdout",
     "output_type": "stream",
     "text": [
      "15\n"
     ]
    }
   ],
   "source": [
    "num_list = [int(v) for v in input().split()]\n",
    "sum1 = 0\n",
    "i = 0\n",
    "\n",
    "while num_list[i] != -1:\n",
    "    sum1 += num_list[i]\n",
    "    i += 1\n",
    "\n",
    "print(sum1)"
   ]
  },
  {
   "cell_type": "markdown",
   "metadata": {},
   "source": [
    "## 範例題 :\n",
    "\n",
    "### 1. 輸入 n，程式輸出從 1 累加至 n 的結果，例如 n=4 則輸出 1+2+3+4=10 的結果"
   ]
  },
  {
   "cell_type": "code",
   "execution_count": 3,
   "metadata": {},
   "outputs": [
    {
     "name": "stdout",
     "output_type": "stream",
     "text": [
      "10\n"
     ]
    }
   ],
   "source": [
    "n = int(input())\n",
    "sum1 = 0\n",
    "i = 1\n",
    "\n",
    "while i <= n:\n",
    "    sum1 += i\n",
    "    i += 1\n",
    "\n",
    "print(sum1)"
   ]
  },
  {
   "cell_type": "markdown",
   "metadata": {},
   "source": [
    "### 2. 輸入整數 a 和 b 輸出 a 連加至 b 的結果"
   ]
  },
  {
   "cell_type": "code",
   "execution_count": 4,
   "metadata": {},
   "outputs": [
    {
     "name": "stdout",
     "output_type": "stream",
     "text": [
      "12\n"
     ]
    }
   ],
   "source": [
    "a, b = map(int, input().split())\n",
    "sum1 = 0\n",
    "\n",
    "while a <= b:\n",
    "    sum1 += a\n",
    "    a += 1\n",
    "\n",
    "print(sum1)"
   ]
  },
  {
   "cell_type": "markdown",
   "metadata": {},
   "source": [
    "### 3. 輸入正整數 n 並輸出 n! 的結果，例如 n=4 則輸出 4*3*2*1=24 的結果"
   ]
  },
  {
   "cell_type": "code",
   "execution_count": 5,
   "metadata": {},
   "outputs": [
    {
     "name": "stdout",
     "output_type": "stream",
     "text": [
      "24\n"
     ]
    }
   ],
   "source": [
    "n = int(input())\n",
    "result = 1\n",
    "\n",
    "while n > 1:\n",
    "    result *= n  \n",
    "    n -= 1\n",
    "    \n",
    "print(result)"
   ]
  },
  {
   "cell_type": "markdown",
   "metadata": {},
   "source": [
    "### 4. 撰寫一程式，使用者輸入一個非負整數，印出其8 位元的二進制表示"
   ]
  },
  {
   "cell_type": "code",
   "execution_count": 6,
   "metadata": {},
   "outputs": [
    {
     "name": "stdout",
     "output_type": "stream",
     "text": [
      "00011000\n"
     ]
    }
   ],
   "source": [
    "n = int(input())\n",
    "str_bit = \"\"\n",
    "\n",
    "while len(str_bit) < 8:\n",
    "    if n > 1:\n",
    "        str_bit = str(n%2) + str_bit\n",
    "        n //= 2\n",
    "    elif n == 1:\n",
    "        str_bit = \"1\" + str_bit\n",
    "        n //= 2\n",
    "    else:\n",
    "        str_bit = \"0\" + str_bit\n",
    "        \n",
    "print(str_bit)"
   ]
  }
 ],
 "metadata": {
  "kernelspec": {
   "display_name": "Python 3.10.6 64-bit",
   "language": "python",
   "name": "python3"
  },
  "language_info": {
   "codemirror_mode": {
    "name": "ipython",
    "version": 3
   },
   "file_extension": ".py",
   "mimetype": "text/x-python",
   "name": "python",
   "nbconvert_exporter": "python",
   "pygments_lexer": "ipython3",
   "version": "3.10.6"
  },
  "orig_nbformat": 4,
  "vscode": {
   "interpreter": {
    "hash": "fb4569285eef3a3450cb62085a5b1e0da4bce0af555edc33dcf29baf3acc1368"
   }
  }
 },
 "nbformat": 4,
 "nbformat_minor": 2
}
